{
 "cells": [
  {
   "cell_type": "markdown",
   "metadata": {},
   "source": [
    "## Unsupervised clustering for identifying spatial inhomogeneity on local electronic structures\n",
    "Hideaki Iwasawa, Tetsuro Ueno, Takahiko Masui, Setsuko Tajima\n",
    "\n",
    "Correspondence should be addressed to H.I. (iwasawa.hideaki@qst.go.jp)"
   ]
  },
  {
   "cell_type": "markdown",
   "metadata": {},
   "source": [
    "# Part 1: Data Loading and pre-processing"
   ]
  },
  {
   "cell_type": "markdown",
   "metadata": {},
   "source": [
    "- Module Setting "
   ]
  },
  {
   "cell_type": "code",
   "execution_count": 1,
   "metadata": {},
   "outputs": [],
   "source": [
    "from nexusformat.nexus import *\n",
    "import numpy as np\n",
    "import matplotlib.pyplot as plt\n",
    "import time"
   ]
  },
  {
   "cell_type": "markdown",
   "metadata": {},
   "source": [
    "- Memory Setting "
   ]
  },
  {
   "cell_type": "code",
   "execution_count": null,
   "metadata": {},
   "outputs": [],
   "source": [
    "# Depending on data size, loading a nexus file may cause a problem with the default setting of the memory limit (2000 MB).\n",
    "# If you encounter the data loading problem, run the following command.\n",
    "nxsetmemory(8000)\n",
    "# Adjust the value (MB unit) in the blacket so as to avoid an error while running \"nxload\" "
   ]
  },
  {
   "cell_type": "markdown",
   "metadata": {},
   "source": [
    "## (1-i) Load Data"
   ]
  },
  {
   "cell_type": "markdown",
   "metadata": {},
   "source": [
    "- Specify Data path\n",
    "    - Select and run one of two below cells to specify target data"
   ]
  },
  {
   "cell_type": "code",
   "execution_count": 2,
   "metadata": {},
   "outputs": [],
   "source": [
    "# Core mapping Data\n",
    "path2file = './data/SPmap_Ba4d.nxs' "
   ]
  },
  {
   "cell_type": "code",
   "execution_count": null,
   "metadata": {},
   "outputs": [],
   "source": [
    "# Near-EF mapping Data\n",
    "path2file = './data/SPmap_EF.nxs'"
   ]
  },
  {
   "cell_type": "markdown",
   "metadata": {},
   "source": [
    "- Load data and initial settings on scaling\n",
    "    - Mapping axes will be rescaled w.r.t. center of the image\n",
    "    - Energy will be rescaled to Binding energy w.r.t. Fermi energy (ef)"
   ]
  },
  {
   "cell_type": "code",
   "execution_count": 3,
   "metadata": {},
   "outputs": [
    {
     "name": "stdout",
     "output_type": "stream",
     "text": [
      "Load File: ./data/SPmap_Ba4d.nxs\n",
      "\n",
      "---Data Size---\n",
      "Map Axis 1 : 46\n",
      "Map Axis 2 : 25\n",
      "Angle : 1000\n",
      "Energy : 1040\n",
      "\n",
      "---Data Scaling---\n",
      "Map Axis 1 (width, step): 2.25 0.04999999999999999\n",
      "Map Axis 2 (width, step): 1.1999999999999886 0.049999999999954525\n",
      "Angle (start, end): -23.943889285714288 23.943889285714288\n",
      "Energy (start, end): 87.72209000000001 86.03891000000002\n",
      "\n",
      "Stored 'path2file' (str)\n",
      "Stored 'xn' (int)\n",
      "Stored 'yn' (int)\n",
      "Stored 'an' (int)\n",
      "Stored 'en' (int)\n",
      "Stored 'pn' (int)\n",
      "Stored 'xw' (float64)\n",
      "Stored 'dx' (float64)\n",
      "Stored 'yw' (float64)\n",
      "Stored 'dy' (float64)\n",
      "Stored 'eng' (ndarray)\n",
      "Stored 'ang' (ndarray)\n",
      "Stored 'xpos' (ndarray)\n",
      "Stored 'ypos' (ndarray)\n",
      "\n",
      "Elapsed Time:  0.05784296989440918\n"
     ]
    }
   ],
   "source": [
    "t1 = time.time() \n",
    "\n",
    "alldata = nxload(path2file) # All data including metadata\n",
    "mapdata = alldata.entry1.instrument.analyser.data # Spatial Mapping Data (4D)\n",
    "eng_raw = alldata.entry1.analyser.energies[:].flatten() # Kinetic Energy\n",
    "ang_raw = alldata.entry1.analyser.angles[:].flatten() # Angles\n",
    "x_raw = alldata.entry1.analyser.sax[:].nxvalue # Sample X = Manipulator X\n",
    "y_raw = alldata.entry1.analyser.saz[:].nxvalue # Sample Y = Manipulator Z\n",
    "\n",
    "# Size\n",
    "xn = np.shape(mapdata)[0] # Row // x-axis\n",
    "yn = np.shape(mapdata)[1] # Column // y-axis\n",
    "an = np.shape(mapdata)[2] # Lay // Angles\n",
    "en = np.shape(mapdata)[3] # Chunk // Energies\n",
    "pn = xn * yn\n",
    "\n",
    "# X axis\n",
    "x_ini = x_raw[0][0]\n",
    "x_end = x_raw[xn-1][0]\n",
    "xw = np.abs(x_end - x_ini) # Width\n",
    "dx = x_raw[1][0] - x_raw[0][0] # Step\n",
    "\n",
    "# Y axis\n",
    "y_ini = y_raw[0][0]\n",
    "y_end = y_raw[0][yn-1]\n",
    "yw = np.abs(y_end - y_ini) # Width\n",
    "dy = np.abs(y_raw[0][1] - y_raw[0][0]) # Step\n",
    "\n",
    "k = 0\n",
    "xpos = np.zeros(xn*yn)\n",
    "ypos = np.zeros(xn*yn)\n",
    "for i in range(xn):\n",
    "    for j in range(yn):\n",
    "        xpos[k] = -xw/2 + i*dx # curxpos\n",
    "        ypos[k] = -yw/2 + j*dy # curypos\n",
    "        k += 1\n",
    "    \n",
    "# Energy axis\n",
    "ef = 144.68 # Fermi Energy\n",
    "eng = - (eng_raw - ef) # Binding Energy\n",
    "eng_ini = eng[0]\n",
    "eng_end = eng[en-1]\n",
    "\n",
    "# Angle axis\n",
    "ang = ang_raw\n",
    "ang_ini = ang[0]\n",
    "ang_end = ang[an-1]\n",
    "\n",
    "print(\"Load File:\", path2file)\n",
    "print(\"\\r\")\n",
    "print(\"---Data Size---\")\n",
    "print(\"Map Axis 1 :\", xn)\n",
    "print(\"Map Axis 2 :\", yn)\n",
    "print(\"Angle :\", an)\n",
    "print(\"Energy :\", en)\n",
    "print(\"\\r\")\n",
    "\n",
    "print(\"---Data Scaling---\")\n",
    "print(\"Map Axis 1 (width, step):\", xw, dx)\n",
    "print(\"Map Axis 2 (width, step):\", yw, dy)\n",
    "print(\"Angle (start, end):\", ang_ini, ang_end)\n",
    "print(\"Energy (start, end):\", eng_ini, eng_end)\n",
    "print(\"\\r\")\n",
    "\n",
    "# For accessing data and variables for subsequent analyses\n",
    "%store path2file\n",
    "\n",
    "%store xn\n",
    "%store yn\n",
    "%store an\n",
    "%store en\n",
    "%store pn\n",
    "\n",
    "%store xw\n",
    "%store dx\n",
    "%store yw\n",
    "%store dy\n",
    "\n",
    "%store eng\n",
    "%store ang\n",
    "%store xpos\n",
    "%store ypos\n",
    "\n",
    "print(\"\\r\")\n",
    "t2 = time.time()\n",
    "elapsed_time = t2-t1\n",
    "print('Elapsed Time: ', elapsed_time)\n",
    "\n",
    "# If you want to confirm contents of a nexus file, run the following commands by removing the hash\n",
    "#print(\"\\r\")\n",
    "#print(\"---Contents of nexus file---\")\n",
    "#print(alldata.tree)"
   ]
  },
  {
   "cell_type": "markdown",
   "metadata": {},
   "source": [
    "## (1-ii) Spatial map of total ARPES intensity"
   ]
  },
  {
   "cell_type": "code",
   "execution_count": 4,
   "metadata": {},
   "outputs": [
    {
     "name": "stderr",
     "output_type": "stream",
     "text": [
      "D:\\Program\\anaconda3\\lib\\site-packages\\nexusformat\\nexus\\tree.py:3612: RuntimeWarning: overflow encountered in long_scalars\n",
      "  if (np.prod(self.shape) * np.dtype(self.dtype).itemsize\n"
     ]
    },
    {
     "data": {
      "image/png": "[encoded data removed]",
      "text/plain": [
       "<Figure size 432x288 with 1 Axes>"
      ]
     },
     "metadata": {
      "needs_background": "light"
     },
     "output_type": "display_data"
    },
    {
     "name": "stdout",
     "output_type": "stream",
     "text": [
      "Elapsed Time:  6.8746137619018555\n"
     ]
    }
   ],
   "source": [
    "t1 = time.time() \n",
    "\n",
    "tot_map = np.sum(np.sum(mapdata.nxvalue, axis = 3), axis = 2)\n",
    "\n",
    "# plot image\n",
    "plt.imshow(tot_map.T, extent = [-xw/2, xw/2, -yw/2, yw/2], origin='lower')\n",
    "plt.xlabel('X (mm)')\n",
    "plt.ylabel('Y (mm)')\n",
    "plt.show()\n",
    "\n",
    "t2 = time.time()\n",
    "elapsed_time = t2-t1\n",
    "print('Elapsed Time: ', elapsed_time)"
   ]
  },
  {
   "cell_type": "markdown",
   "metadata": {},
   "source": [
    "## (1-iii) Flatten 4D map to 2D image"
   ]
  },
  {
   "cell_type": "markdown",
   "metadata": {},
   "source": [
    "- iEDCs : Integrated EDCs"
   ]
  },
  {
   "cell_type": "code",
   "execution_count": 5,
   "metadata": {},
   "outputs": [
    {
     "data": {
      "image/png": "[encoded data removed]",
      "text/plain": [
       "<Figure size 432x288 with 1 Axes>"
      ]
     },
     "metadata": {
      "needs_background": "light"
     },
     "output_type": "display_data"
    },
    {
     "name": "stdout",
     "output_type": "stream",
     "text": [
      "Stored 'iEDCs' (ndarray)\n",
      "Elapsed Time:  0.47868943214416504\n"
     ]
    }
   ],
   "source": [
    "t1 = time.time() \n",
    "\n",
    "iEDCs = np.sum(mapdata.nxvalue, axis = 2).reshape(xn*yn, en) \n",
    "\n",
    "# plot image\n",
    "plt.imshow(iEDCs, extent = [eng_ini, eng_end, 1, xn*yn], aspect = 0.0025)\n",
    "plt.xlabel('Binding energy (eV)')\n",
    "plt.ylabel('Data Points')\n",
    "plt.show()\n",
    "\n",
    "%store iEDCs\n",
    "\n",
    "t2 = time.time()\n",
    "elapsed_time = t2-t1\n",
    "print('Elapsed Time: ', elapsed_time)"
   ]
  },
  {
   "cell_type": "markdown",
   "metadata": {},
   "source": [
    "- iADCs : Integrated ADCs"
   ]
  },
  {
   "cell_type": "code",
   "execution_count": 6,
   "metadata": {},
   "outputs": [
    {
     "data": {
      "image/png": "[encoded data removed]",
      "text/plain": [
       "<Figure size 432x288 with 1 Axes>"
      ]
     },
     "metadata": {
      "needs_background": "light"
     },
     "output_type": "display_data"
    },
    {
     "name": "stdout",
     "output_type": "stream",
     "text": [
      "Stored 'iADCs' (ndarray)\n",
      "Elapsed Time:  1.1310133934020996\n"
     ]
    }
   ],
   "source": [
    "t1 = time.time() \n",
    "\n",
    "iADCs = np.sum(mapdata.nxvalue, axis = 3).reshape(xn*yn, an) \n",
    "\n",
    "# plot image\n",
    "plt.imshow(iADCs, extent = [ang_ini, ang_end, 1, xn*yn], aspect = 0.075)\n",
    "plt.xlabel('Detector angle (deg)')\n",
    "plt.ylabel('Data Points')\n",
    "plt.show()\n",
    "\n",
    "%store iADCs\n",
    "\n",
    "t2 = time.time()\n",
    "elapsed_time = t2-t1\n",
    "print('Elapsed Time: ', elapsed_time)"
   ]
  },
  {
   "cell_type": "markdown",
   "metadata": {},
   "source": [
    "## (1-iv) Output"
   ]
  },
  {
   "cell_type": "markdown",
   "metadata": {},
   "source": [
    "- Save Directory"
   ]
  },
  {
   "cell_type": "code",
   "execution_count": 7,
   "metadata": {},
   "outputs": [],
   "source": [
    "# default is to create \"out\" folder in the current directory, if not exist\n",
    "import os\n",
    "savedir = './out/'\n",
    "if os.path.isdir(savedir) == False:\n",
    "    os.mkdir(savedir)"
   ]
  },
  {
   "cell_type": "markdown",
   "metadata": {},
   "source": [
    "- Spatial map of total ARPES intensity"
   ]
  },
  {
   "cell_type": "code",
   "execution_count": 8,
   "metadata": {},
   "outputs": [],
   "source": [
    "np.savetxt(savedir+'spmap_ARPESint_total.txt', tot_map, delimiter='\\t')"
   ]
  },
  {
   "cell_type": "markdown",
   "metadata": {},
   "source": [
    "- iEDCs : Integrated EDCs"
   ]
  },
  {
   "cell_type": "code",
   "execution_count": 9,
   "metadata": {},
   "outputs": [],
   "source": [
    "np.savetxt(savedir+'iEDCs.txt', iEDCs, delimiter='\\t')"
   ]
  },
  {
   "cell_type": "markdown",
   "metadata": {},
   "source": [
    "- iADCs : Integrated ADCs"
   ]
  },
  {
   "cell_type": "code",
   "execution_count": 10,
   "metadata": {},
   "outputs": [],
   "source": [
    "np.savetxt(savedir+'iADCs.txt', iADCs, delimiter='\\t')"
   ]
  }
 ],
 "metadata": {
  "kernelspec": {
   "display_name": "Python 3 (ipykernel)",
   "language": "python",
   "name": "python3"
  },
  "language_info": {
   "codemirror_mode": {
    "name": "ipython",
    "version": 3
   },
   "file_extension": ".py",
   "mimetype": "text/x-python",
   "name": "python",
   "nbconvert_exporter": "python",
   "pygments_lexer": "ipython3",
   "version": "3.8.12"
  }
 },
 "nbformat": 4,
 "nbformat_minor": 4
}
